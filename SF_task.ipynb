{
  "cells": [
    {
      "cell_type": "markdown",
      "metadata": {
        "id": "NzBiBUnceCfM"
      },
      "source": [
        "# SF task: Known unknowns\n",
        "\n",
        "In this exercise we would like you to:\n",
        "\n",
        "- build SOTA solution for image classification,\n",
        "- find a way to find out if your model works really bad\n",
        "\n",
        "\n",
        "### SOTA CNN Solution for image classification.\n",
        "\n",
        "In this task you need to build a CNN model which:\n",
        "\n",
        "- will be trained on a [`cifar 10`](https://www.cs.toronto.edu/~kriz/cifar.html), \n",
        "- will have a stem like in `ResNet 50`, \n",
        "- will have at least one skip connection,\n",
        "\n",
        "A properly solved task should consist of:\n",
        "- a code cell with a `stem` definition with appropriate citation and image added,\n",
        "- a code cell with a skip-connection definition with appropriate image added,\n",
        "- training a model on `CIFAR 10` which achieves at least 70% of accuracy on a test set from `CIFAR 10`.\n"
      ]
    },
    {
      "cell_type": "markdown",
      "metadata": {
        "id": "C_vNT4gneKiS"
      },
      "source": [
        "### Diving into knowing about what do we don't know\n",
        "\n",
        "The second task is to assess the certainty of your classifier. Your task is to propose a certainty metric which based on your model - will make prediction if a given prediction can be trusted or not.\n",
        "\n",
        "A properly solved task should consist of:\n",
        "- a code cell with definition of your metric and a text cell with its explaination,\n",
        "- a code cell with a histogram of this metric for both properly classified and misclassified examples from CIFAR 10 dataset (histogram should compare distribution of your metric on properly and wrongly classified data).\n",
        "\n",
        "\n",
        "### Code wrap up: \n",
        "\n",
        "Please wrap up your model in the following class as it will be tested against additional dataset:\n",
        "\n",
        "\n",
        "    class Model:\n",
        "        \n",
        "        def predict(self, input_array: np.ndarray) -> np.ndarray:\n",
        "            # Given a batch of examples return a batch of predicted classes.\n",
        "\n",
        "        def certainty(self, input_array: np.ndarray) -> np.ndarray:\n",
        "            # Given a batch of examples return a batch of certainty levels."
      ]
    },
    {
      "cell_type": "markdown",
      "metadata": {},
      "source": [
        "# Solutions\n",
        "## 1. Model stem definition"
      ]
    },
    {
      "cell_type": "markdown",
      "metadata": {},
      "source": [
        "<img src=\"images/resnet50_architecture.png\" alt=\"Alternative text\" />"
      ]
    },
    {
      "cell_type": "markdown",
      "metadata": {},
      "source": [
        "#### Model has been developed in Pytorch Lightning. Architecture i based on above stem. Skip connections are defined within BlockWithResiduals() class."
      ]
    },
    {
      "cell_type": "code",
      "execution_count": 1,
      "metadata": {},
      "outputs": [],
      "source": [
        "from torchmetrics import Accuracy\n",
        "import torch.nn as nn\n",
        "import sys\n",
        "from tqdm import tqdm\n",
        "\n",
        "import torchvision\n",
        "import torch\n",
        "import torchvision.transforms as transforms\n",
        "import pytorch_lightning as pl\n",
        "from pytorch_lightning.callbacks import ModelCheckpoint\n",
        "import numpy as np\n",
        "import matplotlib.pyplot as plt\n",
        "import random\n",
        "\n",
        "import ssl\n",
        "ssl._create_default_https_context = ssl._create_unverified_context\n",
        "\n",
        "# import mlflow\n",
        "# import mlflow.pytorch\n",
        "# from mlflow import MlflowClient\n",
        "\n",
        "# import logging\n",
        "\n",
        "# logging.basicConfig(level=logging.WARN)\n",
        "# logger = logging.getLogger(__name__)\n",
        "\n",
        "# mlflow.set_tracking_uri(\"http://localhost:5000\")\n",
        "# mlflow.set_experiment(\"Training_resnet50\")\n",
        "\n",
        "\n",
        "class BlockWithResiduals(pl.LightningModule):\n",
        "    def __init__(self, channels, start_expansion, end_expansion, stride):\n",
        "        super(BlockWithResiduals, self).__init__()\n",
        "        self.start_expansion = start_expansion\n",
        "        self.end_expansion = end_expansion\n",
        "        self.stride = stride\n",
        "        self.residual_rescale = None\n",
        "\n",
        "        self.conv_1 = nn.Conv2d(in_channels=channels*self.start_expansion, \n",
        "                                out_channels=channels, \n",
        "                                kernel_size=1, \n",
        "                                stride=1, \n",
        "                                padding=0)\n",
        "        self.batch_norm_1 = nn.BatchNorm2d(channels)\n",
        "        self.conv_2 = nn.Conv2d(in_channels=channels, \n",
        "                                out_channels=channels, \n",
        "                                kernel_size=3, \n",
        "                                stride=self.stride, \n",
        "                                padding=1)\n",
        "        self.batch_norm_2 = nn.BatchNorm2d(channels)\n",
        "        self.conv_3 = nn.Conv2d(in_channels=channels, \n",
        "                                out_channels=self.end_expansion*channels, \n",
        "                                kernel_size=1, \n",
        "                                stride=1, \n",
        "                                padding=0)\n",
        "        self.batch_norm_3 = nn.BatchNorm2d(self.end_expansion*channels)\n",
        "\n",
        "        if self.start_expansion != self.end_expansion:\n",
        "            self.residual_rescale = nn.Sequential(\n",
        "                    nn.Conv2d(channels*self.start_expansion, \n",
        "                            channels*self.end_expansion, \n",
        "                            kernel_size=1, \n",
        "                            stride=self.stride),\n",
        "                    nn.BatchNorm2d(channels*self.end_expansion)\n",
        "                )\n",
        "\n",
        "        self.relu = nn.ReLU()\n",
        "\n",
        "    def forward(self, x):\n",
        "        input_x = x.clone()\n",
        "        x = self.relu(self.batch_norm_1(self.conv_1(x)))\n",
        "        x = self.relu(self.batch_norm_2(self.conv_2(x)))\n",
        "        x = self.batch_norm_3(self.conv_3(x))\n",
        "\n",
        "        # skip connection\n",
        "        if self.residual_rescale is not None:\n",
        "            input_x = self.residual_rescale(input_x)\n",
        "        x = self.relu(x + input_x)\n",
        "\n",
        "        return x\n",
        "\n",
        "class MyResNet50(pl.LightningModule):\n",
        "    def __init__(self, lr):\n",
        "        super(MyResNet50, self).__init__()\n",
        "        self.in_channels = 64\n",
        "        self.expansion = 4\n",
        "        self.loss_fn = nn.CrossEntropyLoss()\n",
        "        self.lr = lr\n",
        "\n",
        "        self.input_conv = nn.Conv2d(3, 64, kernel_size=7, stride=2, padding=3, bias=False)\n",
        "        self.batch_norm1 = nn.BatchNorm2d(64)\n",
        "        self.relu = nn.ReLU()\n",
        "        self.max_pool = nn.MaxPool2d(kernel_size=3, stride=2, padding=1)\n",
        "        \n",
        "        self.blocks_layers_1 = self.make_initial_blocks_layer(sublayers_num=3, bl_channels=64, stride=1)\n",
        "        self.blocks_layers_2 = self.make_blocks_layer(sublayers_num=4, bl_channels=128, stride=2)\n",
        "        self.blocks_layers_3 = self.make_blocks_layer(sublayers_num=6, bl_channels=256, stride=2)\n",
        "        self.blocks_layers_4 = self.make_blocks_layer(sublayers_num=3, bl_channels=512, stride=2)\n",
        "\n",
        "        self.avgpool = nn.AdaptiveAvgPool2d((1,1))\n",
        "        self.fc = nn.Linear(512*self.expansion, 10)\n",
        "    \n",
        "    def forward(self, x):\n",
        "        x = self.relu(self.batch_norm1(self.input_conv(x)))\n",
        "        x = self.max_pool(x)\n",
        "        x = self.blocks_layers_1(x)\n",
        "        x = self.blocks_layers_2(x)\n",
        "        x = self.blocks_layers_3(x)\n",
        "        x = self.blocks_layers_4(x)\n",
        "        x = self.avgpool(x)\n",
        "        x = x.reshape(x.shape[0], -1)\n",
        "        x = self.fc(x)\n",
        "\n",
        "        return x\n",
        "\n",
        "    def make_initial_blocks_layer(self, sublayers_num, bl_channels, stride):\n",
        "        blocks_layers = []\n",
        "        for i in range(sublayers_num):\n",
        "            if i == 0:\n",
        "                blocks_layers.append(BlockWithResiduals(channels=bl_channels, start_expansion=1, end_expansion=self.expansion, stride=stride))\n",
        "            else:\n",
        "                blocks_layers.append(BlockWithResiduals(channels=bl_channels, start_expansion=self.expansion, end_expansion=self.expansion, stride=stride))\n",
        "\n",
        "        return nn.Sequential(*blocks_layers)\n",
        "\n",
        "    def make_blocks_layer(self, sublayers_num, bl_channels, stride):\n",
        "        blocks_layers = []\n",
        "        for i in range(sublayers_num):\n",
        "            if i == 0:\n",
        "                blocks_layers.append(BlockWithResiduals(channels=bl_channels, start_expansion=2, end_expansion=self.expansion, stride=stride))\n",
        "            else:\n",
        "                blocks_layers.append(BlockWithResiduals(channels=bl_channels, start_expansion=self.expansion, end_expansion=self.expansion, stride=1))          \n",
        "                \n",
        "\n",
        "        return nn.Sequential(*blocks_layers)\n",
        "\n",
        "    def training_step(self, batch, batch_nb):\n",
        "        x, y = batch\n",
        "        preds = self(x)\n",
        "        loss = self.loss_fn(preds, y)\n",
        "\n",
        "        self.log(\"train_loss\", loss, on_epoch=True)\n",
        "        return loss\n",
        "\n",
        "    def validation_step(self, batch, batch_nb):\n",
        "        x_val, y_val = batch\n",
        "        preds_val = self(x_val)\n",
        "        loss_val = self.loss_fn(preds_val, y_val)\n",
        "\n",
        "        accuracy = Accuracy().to(self.device)\n",
        "        acc = accuracy(preds_val, y_val)\n",
        "        self.log('accuracy', acc, on_epoch=True)\n",
        "        self.log(\"validation_loss\", loss_val, on_epoch=True)\n",
        "\n",
        "        return loss_val\n",
        "    \n",
        "    def configure_optimizers(self):\n",
        "        optimizer = torch.optim.SGD(self.parameters(), lr=self.lr, momentum=0.9, weight_decay=0.0001)\n",
        "        return {\n",
        "        \"optimizer\": optimizer,\n",
        "        \"lr_scheduler\": {\n",
        "            \"scheduler\": torch.optim.lr_scheduler.ReduceLROnPlateau(optimizer, factor = 0.1, patience=5),\n",
        "            # \"interval\": \"epoch\",\n",
        "            \"monitor\": \"validation_loss\",\n",
        "            # \"frequency\": 5\n",
        "        },\n",
        "    }\n",
        "\n",
        "    def predict(self, input_array: np.ndarray) -> np.ndarray:\n",
        "        sm = nn.Softmax(dim=1)\n",
        "        preds = self(torch.Tensor(input_array))\n",
        "        preds = sm(preds)\n",
        "        \n",
        "        return preds.cpu().detach().numpy()\n",
        "\n",
        "    def certainty(self, input_array: np.ndarray) -> np.ndarray:\n",
        "        predictions = self.predict(input_array)\n",
        "        certanities = torch.amax(torch.Tensor(predictions), dim=1)\n",
        "        \n",
        "        return certanities.cpu().detach().numpy()\n"
      ]
    },
    {
      "cell_type": "markdown",
      "metadata": {},
      "source": [
        "#### Loading CIFAR10 dataset from torchvision datasets and adjusting for training/predictions"
      ]
    },
    {
      "cell_type": "code",
      "execution_count": 2,
      "metadata": {},
      "outputs": [
        {
          "name": "stdout",
          "output_type": "stream",
          "text": [
            "Files already downloaded and verified\n",
            "Files already downloaded and verified\n"
          ]
        }
      ],
      "source": [
        "transform_train = transforms.Compose([\n",
        "    transforms.RandomHorizontalFlip(),\n",
        "    transforms.RandomCrop(32, padding=4),\n",
        "    transforms.ToTensor(),\n",
        "    transforms.Normalize((0.5, 0.5, 0.5), (0.5, 0.5, 0.5)),\n",
        "])\n",
        "\n",
        "transform_test = transforms.Compose([\n",
        "    transforms.ToTensor(),\n",
        "    transforms.Normalize((0.5, 0.5, 0.5), (0.5, 0.5, 0.5)),\n",
        "])\n",
        "\n",
        "batch_size = 128\n",
        "trainset = torchvision.datasets.CIFAR10(root='./data', train=True,\n",
        "                                        download=True, transform=transform_train)\n",
        "trainloader = torch.utils.data.DataLoader(trainset, batch_size=batch_size,\n",
        "                                          shuffle=True, num_workers=6, pin_memory=True)\n",
        "\n",
        "testset = torchvision.datasets.CIFAR10(root='./data', train=False,\n",
        "                                       download=True, transform=transform_test)\n",
        "testloader = torch.utils.data.DataLoader(testset, batch_size=100*batch_size,\n",
        "                                         shuffle=False, num_workers=2, pin_memory=True)\n",
        "\n",
        "classes = ('plane', 'car', 'bird', 'cat', 'deer', 'dog', 'frog', 'horse', 'ship', 'truck')"
      ]
    },
    {
      "cell_type": "markdown",
      "metadata": {},
      "source": [
        "# 2. Training model"
      ]
    },
    {
      "cell_type": "markdown",
      "metadata": {},
      "source": [
        "#### Model was trained and monitored using MLFlow Tracking framework. Best 5 models (based on Accuracy) were saved for future use."
      ]
    },
    {
      "cell_type": "code",
      "execution_count": null,
      "metadata": {},
      "outputs": [],
      "source": [
        "model = MyResNet50(lr=0.1)\n",
        "checkpoint_callback = ModelCheckpoint(\n",
        "    monitor='accuracy',\n",
        "    mode = 'max',\n",
        "    save_top_k=5,\n",
        "    dirpath='saved_models/',\n",
        "    filename='resnet50_model-{epoch:02d}-{train_loss:.2f}-{validation_loss:.2f}-{accuracy:.2f}'\n",
        ")\n",
        "\n",
        "trainer = pl.Trainer(max_epochs=200, accelerator='gpu', devices=1, callbacks=[checkpoint_callback])\n",
        "trainer.fit(model, train_dataloaders=trainloader, val_dataloaders=testloader)"
      ]
    },
    {
      "cell_type": "markdown",
      "metadata": {},
      "source": [
        "#### Trained model achieved 85% accuracy on test CIFAR10 dataset after around 50 epochs. Model weights have ben saved as \"resnet50_model-epoch=87-train_loss=0.28-validation_loss=0.48-accuracy=0.85.ckpt\""
      ]
    },
    {
      "cell_type": "markdown",
      "metadata": {},
      "source": [
        "Accuracy:"
      ]
    },
    {
      "cell_type": "markdown",
      "metadata": {},
      "source": [
        "<img src=\"images/model_acc.png\" alt=\"Alternative text\" />"
      ]
    },
    {
      "cell_type": "markdown",
      "metadata": {},
      "source": [
        "Train and validation loss:"
      ]
    },
    {
      "cell_type": "markdown",
      "metadata": {},
      "source": [
        "<img src=\"images/model_loss.png\" alt=\"Alternative text\" />"
      ]
    },
    {
      "cell_type": "markdown",
      "metadata": {},
      "source": [
        "## 3. Predictions and certainity"
      ]
    },
    {
      "cell_type": "markdown",
      "metadata": {},
      "source": [
        "#### Loading pretrained model:"
      ]
    },
    {
      "cell_type": "code",
      "execution_count": 3,
      "metadata": {},
      "outputs": [
        {
          "data": {
            "text/plain": [
              "<All keys matched successfully>"
            ]
          },
          "execution_count": 3,
          "metadata": {},
          "output_type": "execute_result"
        }
      ],
      "source": [
        "model = MyResNet50(lr=0.1)\n",
        "checkpoint = torch.load('saved_models/resnet50_model-epoch=87-train_loss=0.28-validation_loss=0.48-accuracy=0.85.ckpt')\n",
        "model.load_state_dict(checkpoint[\"state_dict\"])"
      ]
    },
    {
      "cell_type": "markdown",
      "metadata": {},
      "source": [
        "##### The simpliest way to mesure model certainity for a prediction is to look at the biggest value given to a class. The closer the value is to 1, the more a model is certain about its prediction."
      ]
    },
    {
      "cell_type": "code",
      "execution_count": 4,
      "metadata": {},
      "outputs": [],
      "source": [
        "dataiter = iter(testloader)\n",
        "X, y = dataiter.next()"
      ]
    },
    {
      "cell_type": "code",
      "execution_count": 5,
      "metadata": {},
      "outputs": [],
      "source": [
        "predictions = model.predict(X.numpy())\n",
        "certanities = model.certainty(X.numpy())"
      ]
    },
    {
      "cell_type": "code",
      "execution_count": 6,
      "metadata": {},
      "outputs": [
        {
          "name": "stderr",
          "output_type": "stream",
          "text": [
            "100%|██████████| 10000/10000 [00:00<00:00, 137379.88it/s]\n"
          ]
        }
      ],
      "source": [
        "correct_preds = []\n",
        "correct_preds_cert = []\n",
        "wrong_preds = []\n",
        "wrong_preds_cert = []\n",
        "\n",
        "for i in tqdm(range(predictions.shape[0])):\n",
        "    if np.argmax(predictions[i]) == y[i].item():\n",
        "        correct_preds.append(predictions[i])\n",
        "        correct_preds_cert.append(certanities[i])\n",
        "    else:\n",
        "        wrong_preds.append(predictions[i])\n",
        "        wrong_preds_cert.append(certanities[i])"
      ]
    },
    {
      "cell_type": "markdown",
      "metadata": {},
      "source": [
        "#### Histograms of certainity metric for correct and wrong predictions"
      ]
    },
    {
      "cell_type": "markdown",
      "metadata": {},
      "source": [
        "Looking at distributions of certanities it is visible that once the model is \"certain\" (max class value close to 1) usually it is correct. When the model gets the class wrong, values of biggest class are usually significantly smaller than 1. Although, sometimes model is certain about the class, but still it classifies it wrongly."
      ]
    },
    {
      "cell_type": "code",
      "execution_count": 9,
      "metadata": {},
      "outputs": [
        {
          "data": {
            "text/plain": [
              "<matplotlib.legend.Legend at 0x7f74b5560df0>"
            ]
          },
          "execution_count": 9,
          "metadata": {},
          "output_type": "execute_result"
        },
        {
          "data": {
            "image/png": "[encoded data removed]",
            "text/plain": [
              "<Figure size 720x360 with 1 Axes>"
            ]
          },
          "metadata": {
            "needs_background": "light"
          },
          "output_type": "display_data"
        }
      ],
      "source": [
        "plt.figure(figsize=(10,5))\n",
        "plt.hist(wrong_preds_cert, color='red', label='wrong predictions')\n",
        "plt.legend()"
      ]
    },
    {
      "cell_type": "code",
      "execution_count": 10,
      "metadata": {},
      "outputs": [
        {
          "data": {
            "text/plain": [
              "<matplotlib.legend.Legend at 0x7f74b53e1e10>"
            ]
          },
          "execution_count": 10,
          "metadata": {},
          "output_type": "execute_result"
        },
        {
          "data": {
            "image/png": "[encoded data removed]",
            "text/plain": [
              "<Figure size 720x360 with 1 Axes>"
            ]
          },
          "metadata": {
            "needs_background": "light"
          },
          "output_type": "display_data"
        }
      ],
      "source": [
        "plt.figure(figsize=(10,5))\n",
        "plt.hist(correct_preds_cert, color='green', label='correct predictions')\n",
        "plt.legend()"
      ]
    },
    {
      "cell_type": "markdown",
      "metadata": {},
      "source": [
        "#### Example predictions with certaininty level"
      ]
    },
    {
      "cell_type": "code",
      "execution_count": 11,
      "metadata": {},
      "outputs": [],
      "source": [
        "def imshow(img):\n",
        "    img = img / 2 + 0.5\n",
        "    npimg = img.numpy()\n",
        "    plt.imshow(np.transpose(npimg, (1, 2, 0)))\n",
        "    plt.show()\n",
        "\n",
        "def show_example_pred():\n",
        "    i = random.randint(0, len(predictions))\n",
        "    print(f'Predicted: {classes[np.argmax(predictions[i])]}')\n",
        "    print(f'Truth: {classes[y[i].numpy()]}')\n",
        "    print(f'Certainity: {round(certanities[i], 2)}')\n",
        "\n",
        "    imshow(torchvision.utils.make_grid(X[i]))"
      ]
    },
    {
      "cell_type": "code",
      "execution_count": 53,
      "metadata": {},
      "outputs": [
        {
          "name": "stdout",
          "output_type": "stream",
          "text": [
            "Predicted: frog\n",
            "Truth: frog\n",
            "Certainity: 0.8399999737739563\n"
          ]
        },
        {
          "data": {
            "image/png": "[encoded data removed]",
            "text/plain": [
              "<Figure size 432x288 with 1 Axes>"
            ]
          },
          "metadata": {
            "needs_background": "light"
          },
          "output_type": "display_data"
        }
      ],
      "source": [
        "show_example_pred()"
      ]
    }
  ],
  "metadata": {
    "colab": {
      "collapsed_sections": [],
      "provenance": []
    },
    "kernelspec": {
      "display_name": "Python 3.10.4 64-bit ('3.10.4')",
      "language": "python",
      "name": "python3"
    },
    "language_info": {
      "codemirror_mode": {
        "name": "ipython",
        "version": 3
      },
      "file_extension": ".py",
      "mimetype": "text/x-python",
      "name": "python",
      "nbconvert_exporter": "python",
      "pygments_lexer": "ipython3",
      "version": "3.10.4"
    },
    "vscode": {
      "interpreter": {
        "hash": "ad8158641473b5565d34f6f27f26e3bb085f022e56f68a87bf10cfb1ae98e0d4"
      }
    }
  },
  "nbformat": 4,
  "nbformat_minor": 0
}
